{
 "cells": [
  {
   "cell_type": "code",
   "execution_count": 13,
   "metadata": {},
   "outputs": [],
   "source": [
    "import pdfplumber\n",
    "import email\n",
    "import regex as re\n",
    "import pycountry\n",
    "import datefinder\n",
    "import tabula"
   ]
  },
  {
   "cell_type": "code",
   "execution_count": 14,
   "metadata": {},
   "outputs": [],
   "source": [
    "path = r'C:\\Users\\kusha\\OneDrive\\Documents\\EY\\table.pdf'"
   ]
  },
  {
   "cell_type": "code",
   "execution_count": 15,
   "metadata": {},
   "outputs": [],
   "source": [
    "def date(text):\n",
    "    matches = datefinder.find_dates(text)\n",
    "    for match in matches:\n",
    "        return match"
   ]
  },
  {
   "cell_type": "code",
   "execution_count": 16,
   "metadata": {},
   "outputs": [],
   "source": [
    "def email(text):\n",
    "    ls = re.findall('\\S+@\\S+', text)\n",
    "    return ls"
   ]
  },
  {
   "cell_type": "code",
   "execution_count": 17,
   "metadata": {},
   "outputs": [],
   "source": [
    "def emailParser(loc):\n",
    "    with pdfplumber.open(loc) as pdf:\n",
    "        first_page = pdf.pages[0]\n",
    "        return (first_page.extract_text())"
   ]
  },
  {
   "cell_type": "code",
   "execution_count": 18,
   "metadata": {},
   "outputs": [],
   "source": [
    "def countryName(text):\n",
    "    for country in pycountry.countries:\n",
    "        if country.name in text:\n",
    "            return country.name"
   ]
  },
  {
   "cell_type": "code",
   "execution_count": 19,
   "metadata": {},
   "outputs": [],
   "source": [
    "txt = emailParser(path)"
   ]
  },
  {
   "cell_type": "code",
   "execution_count": 20,
   "metadata": {},
   "outputs": [
    {
     "name": "stdout",
     "output_type": "stream",
     "text": [
      "From:                                                       Security Alert - International SOS <riskinsights@internationalsos.com>\n",
      "Sent:                                                         06 February 2021 20:18\n",
      "To:                                                            Arun Rohilla\n",
      "Subject:                                                   7 travellers now - Advisory: Nigeria - Lagos state: Avoid Itire Surulere due to ongoing violent clashes\n",
      " \n",
      "This alert is available to view in additional language(s). Click a language link to view:\n",
      "French | German | Italian\n",
      "Nigeria: Lagos state: Avoid Itire Surulere due to ongoing violent clashes\n",
      " \n",
      "  OVERVIEW \n",
      "Level: Advisory\n",
      "Location: Lagos state - Nigeria\n",
      "Category: Civil unrest, Protest/Rally\n",
      "Active: 06 Feb 2021 - 07 Feb 2021\n",
      " \n",
      "   Last Updated: 06 Feb 2021 14:46 (GMT)  \n",
      "The table below shows the number of impacted and potentially impacted individuals and assets at the date/time the\n",
      "alert was issued. The counts include individuals within the impact radius of the alert and may not reflect the total\n",
      "number of people in each area listed.\n",
      "Please log into Tracker for the latest information or click here for an up-to-date list of affected individuals and assets\n",
      "in the impacted area.\n",
      "  EXPOSURE IN IMPACTED AREA ONLY  \n",
      "There in next 24 There in next 1-7 There while the\n",
      "Location There Now\n",
      "hours days alert is active\n",
      "Lagos 7 9 9 7\n",
      "TOTAL 7 9 9 7\n",
      "  EXPOSURE BY COUNTRY  \n",
      "There in next 24 There in next 1-7 There while the\n",
      "Location There Now\n",
      "hours days alert is active\n",
      "Nigeria (High Risk) 15 17 17 15\n",
      "Members in Lagos state in the coming hours should plan journeys bypassing Itire Surulere due to ongoing violent\n",
      "clashes between protesters and the police. Local reporting indicates that protesters gathered to denounce the\n",
      "seizure of their motorcycles. At least one person has reportedly been killed by the police.\n",
      " \n",
      " \n",
      "  WHAT WE ADVISED YOUR PEOPLE \n",
      " \n",
      "Plan journeys bypassing the affected area.\n",
      "If you are nearby, follow all official directives. Anticipate associated road disruption.\n",
      "Monitor our Nigeria alerts for updates.\n",
      " \n",
      " \n",
      "  ASSISTANCE \n",
      "+1 215 942 8226 +33 155 633 155\n",
      " Philadelphia, USA    Paris, France\n",
      "+44 208 762 8008 +65 6338 7800\n",
      "   London, UK   Singapore\n",
      "+971 4601 8777  \n",
      "     \n",
      "Dubai, UAE  \n",
      "Call our medical and travel security specialists any time for advice and assistance before, during or after your trip. All\n",
      "24-hour Assistance Centre phone numbers can be viewed here.\n",
      " \n",
      " \n",
      "  YOUR FEEDBACK \n",
      "Was this alert useful? Click the icons to provide your feedback.\n",
      " \n",
      "  DID YOU KNOW? \n",
      "Download the Assistance app for up-to-date travel security analysis and medical information in the palm\n",
      "of your hands.\n",
      "    \n"
     ]
    }
   ],
   "source": [
    "print(emailParser(path))"
   ]
  },
  {
   "cell_type": "code",
   "execution_count": 21,
   "metadata": {},
   "outputs": [
    {
     "name": "stdout",
     "output_type": "stream",
     "text": [
      "France\n"
     ]
    }
   ],
   "source": [
    "print(countryName(emailParser(path)))"
   ]
  },
  {
   "cell_type": "code",
   "execution_count": 22,
   "metadata": {},
   "outputs": [
    {
     "name": "stdout",
     "output_type": "stream",
     "text": [
      "['<riskinsights@internationalsos.com>']\n"
     ]
    }
   ],
   "source": [
    "print(email(txt))"
   ]
  },
  {
   "cell_type": "code",
   "execution_count": 29,
   "metadata": {},
   "outputs": [],
   "source": [
    "def listToString(s): \n",
    "    \n",
    "    str1 = \" \" \n",
    "    \n",
    "    return (str1.join(s))\n",
    "          "
   ]
  },
  {
   "cell_type": "code",
   "execution_count": 34,
   "metadata": {},
   "outputs": [],
   "source": [
    "listMail = (listToString(email(txt))) "
   ]
  },
  {
   "cell_type": "code",
   "execution_count": 46,
   "metadata": {},
   "outputs": [
    {
     "name": "stdout",
     "output_type": "stream",
     "text": [
      "internationalsos\n"
     ]
    }
   ],
   "source": [
    "user = listMail[listMail.find(\"@\")+1:].split()[0]\n",
    "user = user.split('.')[0]\n",
    "print(user)"
   ]
  },
  {
   "cell_type": "code",
   "execution_count": null,
   "metadata": {},
   "outputs": [],
   "source": []
  },
  {
   "cell_type": "code",
   "execution_count": null,
   "metadata": {},
   "outputs": [],
   "source": [
    "email"
   ]
  },
  {
   "cell_type": "code",
   "execution_count": 23,
   "metadata": {},
   "outputs": [
    {
     "name": "stdout",
     "output_type": "stream",
     "text": [
      "2021-02-06 20:18:00\n"
     ]
    }
   ],
   "source": [
    "print(date(txt))"
   ]
  },
  {
   "cell_type": "code",
   "execution_count": 26,
   "metadata": {},
   "outputs": [
    {
     "ename": "AttributeError",
     "evalue": "'function' object has no attribute 'message_from_string'",
     "output_type": "error",
     "traceback": [
      "\u001b[1;31m---------------------------------------------------------------------------\u001b[0m",
      "\u001b[1;31mAttributeError\u001b[0m                            Traceback (most recent call last)",
      "\u001b[1;32m<ipython-input-26-ac256c457b0d>\u001b[0m in \u001b[0;36m<module>\u001b[1;34m\u001b[0m\n\u001b[1;32m----> 1\u001b[1;33m \u001b[0mmsg\u001b[0m \u001b[1;33m=\u001b[0m \u001b[0memail\u001b[0m\u001b[1;33m.\u001b[0m\u001b[0mmessage_from_string\u001b[0m\u001b[1;33m(\u001b[0m\u001b[0memailParser\u001b[0m\u001b[1;33m(\u001b[0m\u001b[0mpath\u001b[0m\u001b[1;33m)\u001b[0m\u001b[1;33m)\u001b[0m\u001b[1;33m\u001b[0m\u001b[1;33m\u001b[0m\u001b[0m\n\u001b[0m\u001b[0;32m      2\u001b[0m \u001b[0mprint\u001b[0m\u001b[1;33m(\u001b[0m\u001b[0mmsg\u001b[0m\u001b[1;33m[\u001b[0m\u001b[1;34m'From'\u001b[0m\u001b[1;33m]\u001b[0m\u001b[1;33m)\u001b[0m\u001b[1;33m\u001b[0m\u001b[1;33m\u001b[0m\u001b[0m\n",
      "\u001b[1;31mAttributeError\u001b[0m: 'function' object has no attribute 'message_from_string'"
     ]
    }
   ],
   "source": [
    "msg = email.message_from_string(emailParser(path))\n",
    "print(msg['From'])"
   ]
  },
  {
   "cell_type": "code",
   "execution_count": null,
   "metadata": {},
   "outputs": [],
   "source": []
  }
 ],
 "metadata": {
  "kernelspec": {
   "display_name": "Python 3",
   "language": "python",
   "name": "python3"
  }
 },
 "nbformat": 4,
 "nbformat_minor": 4
}
